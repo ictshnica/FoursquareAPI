{
 "cells": [
  {
   "cell_type": "code",
   "execution_count": 1,
   "metadata": {
    "collapsed": false
   },
   "outputs": [],
   "source": [
    "import foursquare as fs\n",
    "import pandas as pd\n",
    "import time"
   ]
  },
  {
   "cell_type": "code",
   "execution_count": 2,
   "metadata": {
    "collapsed": true
   },
   "outputs": [],
   "source": [
    "client_id = 'your_client_id'\n",
    "client_secret = 'your_client_secret'\n",
    "redirect_id = 'site_of_your_app'\n",
    "\n",
    "client = fs.Foursquare(client_id=client_id, client_secret=client_secret, \n",
    "                       redirect_uri=redirect_id)"
   ]
  },
  {
   "cell_type": "code",
   "execution_count": 3,
   "metadata": {
    "collapsed": true
   },
   "outputs": [],
   "source": [
    "# returns a list of venues in a given area\n",
    "def venues_list(client, ne, sw):\n",
    "    \n",
    "    # see also https://developer.foursquare.com/categorytree\n",
    "    categories = '4d4b7105d754a06374d81259,4d4b7105d754a06376d81259'\n",
    "    \n",
    "    vens = client.venues.search({'intent' : 'browse', 'limit' : 1000,\n",
    "                                 'ne' : ne, 'sw' : sw,\n",
    "                                 'categoryId' : categories})\n",
    "    \n",
    "    return [venue['id'] for venue in vens['venues']]"
   ]
  },
  {
   "cell_type": "code",
   "execution_count": 4,
   "metadata": {
    "collapsed": true
   },
   "outputs": [],
   "source": [
    "# returns a pandas DF that contains information about\n",
    "# Discrict (that you choose), BarId, UserId, Review text,\n",
    "# whether a visitor made a photo, and visitor's reaction\n",
    "def reviews(client, VENUE_ID_LIST, district_name):\n",
    "    \n",
    "    df = pd.DataFrame(columns=['District', 'BarId', 'UserId', 'Review', \n",
    "                               'MadePhoto', 'Reaction'])\n",
    "    \n",
    "    for VENUE_ID in VENUE_ID_LIST:\n",
    "        reviews = client.venues.tips(VENUE_ID, params={'limit':1000, \n",
    "                                                       'sort':'popular'})\n",
    "        \n",
    "        for review in reviews['tips']['items']:\n",
    "            UserId = review['user']['id']\n",
    "            MadePhoto = False if review.get('photo', 0) == 0 else True\n",
    "            Review = review['text']\n",
    "            Reaction = review.get('authorInteractionType', None)\n",
    "            \n",
    "            df = df.append([{'District' : district_name, \n",
    "                             'BarId' : VENUE_ID, 'UserId' : UserId, \n",
    "                             'Review' : Review, 'MadePhoto' : MadePhoto,\n",
    "                             'Reaction' : Reaction}])\n",
    "        \n",
    "    return df"
   ]
  },
  {
   "cell_type": "code",
   "execution_count": 5,
   "metadata": {
    "collapsed": false
   },
   "outputs": [],
   "source": [
    "# specifying coordinates of districts\n",
    "# Note: only 50 venues will be reported within chosen area \n",
    "# in functions I choose some atbitrary large constant --- 'limit' : 1000\n",
    "coords = {'sw' : '59.929506,30.320345', 'ne' : '59.935408,30.334722'}\n",
    "venues = venues_list(client, ne=coords['ne'], sw=coords['sw'])"
   ]
  },
  {
   "cell_type": "code",
   "execution_count": 6,
   "metadata": {
    "collapsed": false,
    "scrolled": true
   },
   "outputs": [],
   "source": [
    "# downloading reviews for districts\n",
    "data = reviews(client, VENUE_ID_LIST=venues, district_name='dist1')"
   ]
  },
  {
   "cell_type": "code",
   "execution_count": 7,
   "metadata": {
    "collapsed": false
   },
   "outputs": [
    {
     "data": {
      "text/plain": [
       "['52b89801498eb5da45f72173',\n",
       " '4c62e1907c9def3bb65ad71c',\n",
       " '4fdc23abe4b019d606ac005d',\n",
       " '531092cd11d271858db84e20',\n",
       " '4d88a71b4757721ed4a09169']"
      ]
     },
     "execution_count": 7,
     "metadata": {},
     "output_type": "execute_result"
    }
   ],
   "source": [
    "# example of received VenueIDs\n",
    "venues[:5]"
   ]
  },
  {
   "cell_type": "code",
   "execution_count": 8,
   "metadata": {
    "collapsed": false
   },
   "outputs": [
    {
     "data": {
      "text/html": [
       "<div>\n",
       "<table border=\"1\" class=\"dataframe\">\n",
       "  <thead>\n",
       "    <tr style=\"text-align: right;\">\n",
       "      <th></th>\n",
       "      <th>District</th>\n",
       "      <th>BarId</th>\n",
       "      <th>UserId</th>\n",
       "      <th>Review</th>\n",
       "      <th>MadePhoto</th>\n",
       "      <th>Reaction</th>\n",
       "    </tr>\n",
       "  </thead>\n",
       "  <tbody>\n",
       "    <tr>\n",
       "      <th>0</th>\n",
       "      <td>dist1</td>\n",
       "      <td>52b89801498eb5da45f72173</td>\n",
       "      <td>142661708</td>\n",
       "      <td>Как в городе с хорошими локальными, интересным...</td>\n",
       "      <td>False</td>\n",
       "      <td>disliked</td>\n",
       "    </tr>\n",
       "    <tr>\n",
       "      <th>0</th>\n",
       "      <td>dist1</td>\n",
       "      <td>52b89801498eb5da45f72173</td>\n",
       "      <td>78572773</td>\n",
       "      <td>Сегодня помогли выбрать термос-кружку! Очень в...</td>\n",
       "      <td>True</td>\n",
       "      <td>liked</td>\n",
       "    </tr>\n",
       "    <tr>\n",
       "      <th>0</th>\n",
       "      <td>dist1</td>\n",
       "      <td>52b89801498eb5da45f72173</td>\n",
       "      <td>27549866</td>\n",
       "      <td>Уютно, красивый вид на Казанскую площадь и баш...</td>\n",
       "      <td>True</td>\n",
       "      <td>None</td>\n",
       "    </tr>\n",
       "    <tr>\n",
       "      <th>0</th>\n",
       "      <td>dist1</td>\n",
       "      <td>52b89801498eb5da45f72173</td>\n",
       "      <td>14572902</td>\n",
       "      <td>Первый в городе старбакс, действительно похожи...</td>\n",
       "      <td>True</td>\n",
       "      <td>None</td>\n",
       "    </tr>\n",
       "    <tr>\n",
       "      <th>0</th>\n",
       "      <td>dist1</td>\n",
       "      <td>52b89801498eb5da45f72173</td>\n",
       "      <td>51792004</td>\n",
       "      <td>Самый лучший Starbucks, на мой взгляд. Интерес...</td>\n",
       "      <td>True</td>\n",
       "      <td>liked</td>\n",
       "    </tr>\n",
       "  </tbody>\n",
       "</table>\n",
       "</div>"
      ],
      "text/plain": [
       "  District                     BarId     UserId  \\\n",
       "0    dist1  52b89801498eb5da45f72173  142661708   \n",
       "0    dist1  52b89801498eb5da45f72173   78572773   \n",
       "0    dist1  52b89801498eb5da45f72173   27549866   \n",
       "0    dist1  52b89801498eb5da45f72173   14572902   \n",
       "0    dist1  52b89801498eb5da45f72173   51792004   \n",
       "\n",
       "                                              Review MadePhoto  Reaction  \n",
       "0  Как в городе с хорошими локальными, интересным...     False  disliked  \n",
       "0  Сегодня помогли выбрать термос-кружку! Очень в...      True     liked  \n",
       "0  Уютно, красивый вид на Казанскую площадь и баш...      True      None  \n",
       "0  Первый в городе старбакс, действительно похожи...      True      None  \n",
       "0  Самый лучший Starbucks, на мой взгляд. Интерес...      True     liked  "
      ]
     },
     "execution_count": 8,
     "metadata": {},
     "output_type": "execute_result"
    }
   ],
   "source": [
    "# example of \n",
    "data.head()"
   ]
  }
 ],
 "metadata": {
  "kernelspec": {
   "display_name": "Python 3",
   "language": "python",
   "name": "python3"
  },
  "language_info": {
   "codemirror_mode": {
    "name": "ipython",
    "version": 3
   },
   "file_extension": ".py",
   "mimetype": "text/x-python",
   "name": "python",
   "nbconvert_exporter": "python",
   "pygments_lexer": "ipython3",
   "version": "3.5.2"
  }
 },
 "nbformat": 4,
 "nbformat_minor": 1
}
