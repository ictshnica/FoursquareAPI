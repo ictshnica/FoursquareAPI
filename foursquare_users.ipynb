{
 "cells": [
  {
   "cell_type": "code",
   "execution_count": 1,
   "metadata": {
    "collapsed": false
   },
   "outputs": [],
   "source": [
    "import foursquare as fs\n",
    "import pandas as pd\n",
    "import time"
   ]
  },
  {
   "cell_type": "code",
   "execution_count": 2,
   "metadata": {
    "collapsed": true
   },
   "outputs": [],
   "source": [
    "client_id = 'your_client_id'\n",
    "client_secret = 'your_client_secret'\n",
    "redirect_id = 'site_of_your_app'\n",
    "\n",
    "client = fs.Foursquare(client_id=client_id, client_secret=client_secret, \n",
    "                       redirect_uri=redirect_id)"
   ]
  },
  {
   "cell_type": "code",
   "execution_count": 3,
   "metadata": {
    "collapsed": false
   },
   "outputs": [],
   "source": [
    "# returns a pandas DF with selected user's personal information\n",
    "# given list of user's IDs\n",
    "# free API limit is 500 (every query resets in an hour).\n",
    "def user_info(client, user_id_list):\n",
    "    \n",
    "    df = pd.DataFrame(columns=['UserId', 'HomeCity', 'Gender', 'FriendCount',\n",
    "                               'CheckInCount', 'ListCount', 'PhotoCount', \n",
    "                               'TipCount'])\n",
    "    # count is for deleted users (removed their accont but left a review)\n",
    "    count = 0\n",
    "    # count_user is for printing the progress (see try-clause)\n",
    "    count_user = 0\n",
    "    for user in user_id_list:\n",
    "        \n",
    "        try:\n",
    "            person = client.users(user)['user']\n",
    "            \n",
    "            count_user += 1\n",
    "            print(count_user, end=',')\n",
    "            \n",
    "            HomeCity = person['homeCity']\n",
    "            Gender = person['gender']\n",
    "            Friends = person['friends']['count']\n",
    "            Chekins = person['checkins']['count']\n",
    "            Lists = person['lists']['count']\n",
    "            Photos = person['photos']['count']\n",
    "            Tips = person['tips']['count']\n",
    "            \n",
    "            df = df.append([{'UserId' : user, 'HomeCity' : HomeCity, \n",
    "                             'Gender' : Gender, 'FriendCount' : Friends,\n",
    "                             'CheckInCount' : Chekins, 'ListCount' : Lists, \n",
    "                             'PhotoCount' : Photos, 'TipCount': Tips}])\n",
    "        \n",
    "        # runs if the acc of a user has been deleted\n",
    "        except fs.ParamError:\n",
    "            count += 1\n",
    "            print('ParamError. Deleted', user)\n",
    "            continue\n",
    "        \n",
    "        # runs if the API limit prevents new queries (sleep one hour)\n",
    "        except fs.RateLimitExceeded:\n",
    "            print('waiting for an hour...')\n",
    "            time.sleep(60 * 60)\n",
    "            print('continue')\n",
    "            \n",
    "            person = client.users(user)['user']\n",
    "            \n",
    "            HomeCity = person['homeCity']\n",
    "            Gender = person['gender']\n",
    "            Friends = person['friends']['count']\n",
    "            Chekins = person['checkins']['count']\n",
    "            Lists = person['lists']['count']\n",
    "            Photos = person['photos']['count']\n",
    "            Tips = person['tips']['count']\n",
    "            \n",
    "            df = df.append([{'UserId' : user, 'HomeCity' : HomeCity, \n",
    "                             'Gender' : Gender, 'FriendCount' : Friends,\n",
    "                             'CheckInCount' : Chekins, 'ListCount' : Lists, \n",
    "                             'PhotoCount' : Photos, 'TipCount': Tips}])\n",
    "        \n",
    "    print('Deleted:', count, 'of', len(user_id_list))\n",
    "    return df"
   ]
  },
  {
   "cell_type": "code",
   "execution_count": 4,
   "metadata": {
    "collapsed": false,
    "scrolled": false
   },
   "outputs": [],
   "source": [
    "# let's select some users just for example purpose\n",
    "visitors_lst = ['75385428', '25447207', '160789350', '89006174',\n",
    "                '62162935', '75308640', '125015135', '46274854',\n",
    "                '34676525', '1906600', '64991911', '15329174', \n",
    "                '8357163', '33879706', '54043864']"
   ]
  },
  {
   "cell_type": "code",
   "execution_count": 5,
   "metadata": {
    "collapsed": false
   },
   "outputs": [
    {
     "name": "stdout",
     "output_type": "stream",
     "text": [
      "1,2,3,4,5,6,7,8,9,10,11,12,13,14,15,Deleted: 0 of 15\n"
     ]
    }
   ],
   "source": [
    "# downloading information for given users\n",
    "# users_meta = pd.read_csv('users_meta.csv')\n",
    "users_meta = user_info(client, user_id_list=visitors_lst)"
   ]
  },
  {
   "cell_type": "code",
   "execution_count": 6,
   "metadata": {
    "collapsed": false
   },
   "outputs": [
    {
     "data": {
      "text/html": [
       "<div>\n",
       "<table border=\"1\" class=\"dataframe\">\n",
       "  <thead>\n",
       "    <tr style=\"text-align: right;\">\n",
       "      <th></th>\n",
       "      <th>UserId</th>\n",
       "      <th>HomeCity</th>\n",
       "      <th>Gender</th>\n",
       "      <th>FriendCount</th>\n",
       "      <th>CheckInCount</th>\n",
       "      <th>ListCount</th>\n",
       "      <th>MajorCount</th>\n",
       "      <th>PhotoCount</th>\n",
       "      <th>TipCount</th>\n",
       "    </tr>\n",
       "  </thead>\n",
       "  <tbody>\n",
       "    <tr>\n",
       "      <th>0</th>\n",
       "      <td>75385428</td>\n",
       "      <td>Saint-Petersburg, St.-Petersburg</td>\n",
       "      <td>female</td>\n",
       "      <td>47.0</td>\n",
       "      <td>4611.0</td>\n",
       "      <td>6.0</td>\n",
       "      <td>0.0</td>\n",
       "      <td>0.0</td>\n",
       "      <td>362.0</td>\n",
       "    </tr>\n",
       "    <tr>\n",
       "      <th>0</th>\n",
       "      <td>25447207</td>\n",
       "      <td>City of St. Petersburg</td>\n",
       "      <td>female</td>\n",
       "      <td>9.0</td>\n",
       "      <td>137.0</td>\n",
       "      <td>2.0</td>\n",
       "      <td>0.0</td>\n",
       "      <td>0.0</td>\n",
       "      <td>38.0</td>\n",
       "    </tr>\n",
       "    <tr>\n",
       "      <th>0</th>\n",
       "      <td>160789350</td>\n",
       "      <td>Genève / Sion</td>\n",
       "      <td>male</td>\n",
       "      <td>0.0</td>\n",
       "      <td>331.0</td>\n",
       "      <td>2.0</td>\n",
       "      <td>0.0</td>\n",
       "      <td>0.0</td>\n",
       "      <td>201.0</td>\n",
       "    </tr>\n",
       "    <tr>\n",
       "      <th>0</th>\n",
       "      <td>89006174</td>\n",
       "      <td>Saint Petersburg, Russia</td>\n",
       "      <td>female</td>\n",
       "      <td>30.0</td>\n",
       "      <td>1226.0</td>\n",
       "      <td>5.0</td>\n",
       "      <td>0.0</td>\n",
       "      <td>0.0</td>\n",
       "      <td>201.0</td>\n",
       "    </tr>\n",
       "    <tr>\n",
       "      <th>0</th>\n",
       "      <td>62162935</td>\n",
       "      <td>Saint-Petersburg</td>\n",
       "      <td>male</td>\n",
       "      <td>184.0</td>\n",
       "      <td>1081.0</td>\n",
       "      <td>8.0</td>\n",
       "      <td>0.0</td>\n",
       "      <td>0.0</td>\n",
       "      <td>186.0</td>\n",
       "    </tr>\n",
       "  </tbody>\n",
       "</table>\n",
       "</div>"
      ],
      "text/plain": [
       "      UserId                          HomeCity  Gender  FriendCount  \\\n",
       "0   75385428  Saint-Petersburg, St.-Petersburg  female         47.0   \n",
       "0   25447207            City of St. Petersburg  female          9.0   \n",
       "0  160789350                     Genève / Sion    male          0.0   \n",
       "0   89006174          Saint Petersburg, Russia  female         30.0   \n",
       "0   62162935                  Saint-Petersburg    male        184.0   \n",
       "\n",
       "   CheckInCount  ListCount  MajorCount  PhotoCount  TipCount  \n",
       "0        4611.0        6.0         0.0         0.0     362.0  \n",
       "0         137.0        2.0         0.0         0.0      38.0  \n",
       "0         331.0        2.0         0.0         0.0     201.0  \n",
       "0        1226.0        5.0         0.0         0.0     201.0  \n",
       "0        1081.0        8.0         0.0         0.0     186.0  "
      ]
     },
     "execution_count": 6,
     "metadata": {},
     "output_type": "execute_result"
    }
   ],
   "source": [
    "# example of what one may gets\n",
    "users_meta.head()"
   ]
  }
 ],
 "metadata": {
  "kernelspec": {
   "display_name": "Python 3",
   "language": "python",
   "name": "python3"
  },
  "language_info": {
   "codemirror_mode": {
    "name": "ipython",
    "version": 3
   },
   "file_extension": ".py",
   "mimetype": "text/x-python",
   "name": "python",
   "nbconvert_exporter": "python",
   "pygments_lexer": "ipython3",
   "version": "3.5.2"
  }
 },
 "nbformat": 4,
 "nbformat_minor": 1
}
