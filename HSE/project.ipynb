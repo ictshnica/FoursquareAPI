{
 "cells": [
  {
   "cell_type": "code",
   "execution_count": 1,
   "metadata": {
    "collapsed": false
   },
   "outputs": [],
   "source": [
    "import foursquare as fs\n",
    "import pandas as pd\n",
    "import time"
   ]
  },
  {
   "cell_type": "code",
   "execution_count": 2,
   "metadata": {
    "collapsed": true
   },
   "outputs": [],
   "source": [
    "client_id = 'your_client_id'\n",
    "client_secret = 'your_client_secret'\n",
    "redirect_id = 'site_of_your_app'\n",
    "\n",
    "client = fs.Foursquare(client_id=client_id, client_secret=client_secret, \n",
    "                       redirect_uri=redirect_id)"
   ]
  },
  {
   "cell_type": "code",
   "execution_count": 3,
   "metadata": {
    "collapsed": true
   },
   "outputs": [],
   "source": [
    "# returns a list of venues in a given area\n",
    "def venues_list(client, ne, sw):\n",
    "    \n",
    "    # see also https://developer.foursquare.com/categorytree\n",
    "    categories = '4d4b7105d754a06374d81259,4d4b7105d754a06376d81259'\n",
    "    \n",
    "    vens = client.venues.search({'intent' : 'browse', 'limit' : 1000,\n",
    "                                 'ne' : ne, 'sw' : sw,\n",
    "                                 'categoryId' : categories})\n",
    "    \n",
    "    return [venue['id'] for venue in vens['venues']]"
   ]
  },
  {
   "cell_type": "code",
   "execution_count": 4,
   "metadata": {
    "collapsed": true
   },
   "outputs": [],
   "source": [
    "# returns a pandas DF that contains information about\n",
    "# Discrict (that you choose), BarId, UserId, Review text,\n",
    "# whether a visitor made a photo, and visitor's reaction\n",
    "def reviews(client, VENUE_ID_LIST, district_name):\n",
    "    \n",
    "    df = pd.DataFrame(columns=['District', 'BarId', 'UserId', 'Review', \n",
    "                               'MadePhoto', 'Reaction'])\n",
    "    \n",
    "    for VENUE_ID in VENUE_ID_LIST:\n",
    "        reviews = client.venues.tips(VENUE_ID, params={'limit':1000, \n",
    "                                                       'sort':'popular'})\n",
    "        \n",
    "        for review in reviews['tips']['items']:\n",
    "            UserId = review['user']['id']\n",
    "            MadePhoto = False if review.get('photo', 0) == 0 else True\n",
    "            Review = review['text']\n",
    "            Reaction = review.get('authorInteractionType', None)\n",
    "            \n",
    "            df = df.append([{'District' : district_name, \n",
    "                             'BarId' : VENUE_ID, 'UserId' : UserId, \n",
    "                             'Review' : Review, 'MadePhoto' : MadePhoto,\n",
    "                             'Reaction' : Reaction}])\n",
    "        \n",
    "    return df"
   ]
  },
  {
   "cell_type": "code",
   "execution_count": 67,
   "metadata": {
    "collapsed": false
   },
   "outputs": [],
   "source": [
    "# returns a pandas DF with selected user's personal information\n",
    "# given list of user's IDs\n",
    "# free API limit is 500 (every query resets in an hour).\n",
    "def user_info(client, user_id_list):\n",
    "    \n",
    "    df = pd.DataFrame(columns=['UserId', 'HomeCity', 'Gender', 'FriendCount',\n",
    "                               'CheckInCount', 'ListCount', 'PhotoCount', \n",
    "                               'TipCount'])\n",
    "    # count is for deleted users (removed their accont but left a review)\n",
    "    count = 0\n",
    "    # count_user is for printing the progress (see try-clause)\n",
    "    count_user = 0\n",
    "    for user in user_id_list:\n",
    "        \n",
    "        try:\n",
    "            person = client.users(user)['user']\n",
    "            \n",
    "            count_user += 1\n",
    "            print(count_user, end=',')\n",
    "            \n",
    "            HomeCity = person['homeCity']\n",
    "            Gender = person['gender']\n",
    "            Friends = person['friends']['count']\n",
    "            Chekins = person['checkins']['count']\n",
    "            Lists = person['lists']['count']\n",
    "            Photos = person['photos']['count']\n",
    "            Tips = person['tips']['count']\n",
    "            \n",
    "            df = df.append([{'UserId' : user, 'HomeCity' : HomeCity, \n",
    "                             'Gender' : Gender, 'FriendCount' : Friends,\n",
    "                             'CheckInCount' : Chekins, 'ListCount' : Lists, \n",
    "                             'PhotoCount' : Photos, 'TipCount': Tips}])\n",
    "        \n",
    "        # runs if the acc of a user has been deleted\n",
    "        except fs.ParamError:\n",
    "            count += 1\n",
    "            print('ParamError. Deleted', user)\n",
    "            continue\n",
    "        \n",
    "        # runs if the API limit prevents new queries (sleep one hour)\n",
    "        except fs.RateLimitExceeded:\n",
    "            print('waiting for an hour...')\n",
    "            time.sleep(60 * 60)\n",
    "            print('continue')\n",
    "            \n",
    "            person = client.users(user)['user']\n",
    "            \n",
    "            HomeCity = person['homeCity']\n",
    "            Gender = person['gender']\n",
    "            Friends = person['friends']['count']\n",
    "            Chekins = person['checkins']['count']\n",
    "            Lists = person['lists']['count']\n",
    "            Photos = person['photos']['count']\n",
    "            Tips = person['tips']['count']\n",
    "            \n",
    "            df = df.append([{'UserId' : user, 'HomeCity' : HomeCity, \n",
    "                             'Gender' : Gender, 'FriendCount' : Friends,\n",
    "                             'CheckInCount' : Chekins, 'ListCount' : Lists, \n",
    "                             'PhotoCount' : Photos, 'TipCount': Tips}])\n",
    "        \n",
    "    print('Deleted:', count, 'of', len(user_id_list))\n",
    "    return df"
   ]
  },
  {
   "cell_type": "code",
   "execution_count": 6,
   "metadata": {
    "collapsed": false
   },
   "outputs": [],
   "source": [
    "# specifying coordinates of districts\n",
    "# Note: only 50 venues will be reported within chosen area \n",
    "# in functions I choose some atbitrary large constant --- 'limit' : 1000\n",
    "dum_coords = {'sw' : '59.929506,30.320345', 'ne' : '59.935408,30.334722'}\n",
    "zhu_coords = {'ne' : '59.939031,30.361372', 'sw' : '59.933129,30.346996'}\n",
    "rub_coords = {'sw' : '59.926377,30.336009', 'ne' : '59.932366,30.350343'}\n",
    "\n",
    "dum_venues = venues_list(client, ne=dum_coords['ne'], sw=dum_coords['sw'])\n",
    "zhu_venues = venues_list(client, ne=zhu_coords['ne'], sw=zhu_coords['sw'])\n",
    "rub_venues = venues_list(client, ne=rub_coords['ne'], sw=rub_coords['sw'])"
   ]
  },
  {
   "cell_type": "code",
   "execution_count": 8,
   "metadata": {
    "collapsed": false,
    "scrolled": true
   },
   "outputs": [],
   "source": [
    "# downloading reviews for districts\n",
    "dum_data = reviews(client, VENUE_ID_LIST=dum_venues, district_name='Dumskaya')\n",
    "zhu_data = reviews(client, VENUE_ID_LIST=zhu_venues, district_name='Zukovskogo')\n",
    "rub_data = reviews(client, VENUE_ID_LIST=rub_venues, district_name='Rubinshteyna')"
   ]
  },
  {
   "cell_type": "code",
   "execution_count": 74,
   "metadata": {
    "collapsed": false
   },
   "outputs": [],
   "source": [
    "# concatenating all districts in one DF\n",
    "# data = pd.read_csv('venues_meta.csv')\n",
    "data = pd.concat([dum_data, zhu_data, rub_data])"
   ]
  },
  {
   "cell_type": "code",
   "execution_count": 56,
   "metadata": {
    "collapsed": false,
    "scrolled": false
   },
   "outputs": [],
   "source": [
    "# selecting only unique users\n",
    "visitors_lst = list(set(data.UserId))"
   ]
  },
  {
   "cell_type": "code",
   "execution_count": 76,
   "metadata": {
    "collapsed": false
   },
   "outputs": [],
   "source": [
    "# downloading information for given users\n",
    "# users_meta = pd.read_csv('users_meta.csv')\n",
    "users_meta = user_info(client, user_id_list=visitors_lst)"
   ]
  },
  {
   "cell_type": "code",
   "execution_count": 77,
   "metadata": {
    "collapsed": false
   },
   "outputs": [
    {
     "data": {
      "text/html": [
       "<div>\n",
       "<table border=\"1\" class=\"dataframe\">\n",
       "  <thead>\n",
       "    <tr style=\"text-align: right;\">\n",
       "      <th></th>\n",
       "      <th>UserId</th>\n",
       "      <th>HomeCity</th>\n",
       "      <th>Gender</th>\n",
       "      <th>FriendCount</th>\n",
       "      <th>CheckInCount</th>\n",
       "      <th>ListCount</th>\n",
       "      <th>MajorCount</th>\n",
       "      <th>PhotoCount</th>\n",
       "      <th>TipCount</th>\n",
       "    </tr>\n",
       "  </thead>\n",
       "  <tbody>\n",
       "    <tr>\n",
       "      <th>0</th>\n",
       "      <td>57748591</td>\n",
       "      <td>Saint-Petersburg</td>\n",
       "      <td>female</td>\n",
       "      <td>84.0</td>\n",
       "      <td>1833.0</td>\n",
       "      <td>4.0</td>\n",
       "      <td>0.0</td>\n",
       "      <td>0.0</td>\n",
       "      <td>26.0</td>\n",
       "    </tr>\n",
       "    <tr>\n",
       "      <th>1</th>\n",
       "      <td>77174927</td>\n",
       "      <td>Saint Petersburg, Russia</td>\n",
       "      <td>female</td>\n",
       "      <td>19.0</td>\n",
       "      <td>640.0</td>\n",
       "      <td>19.0</td>\n",
       "      <td>0.0</td>\n",
       "      <td>0.0</td>\n",
       "      <td>4.0</td>\n",
       "    </tr>\n",
       "    <tr>\n",
       "      <th>2</th>\n",
       "      <td>105804316</td>\n",
       "      <td>Moscow, Moscow</td>\n",
       "      <td>female</td>\n",
       "      <td>0.0</td>\n",
       "      <td>4.0</td>\n",
       "      <td>2.0</td>\n",
       "      <td>0.0</td>\n",
       "      <td>0.0</td>\n",
       "      <td>5.0</td>\n",
       "    </tr>\n",
       "    <tr>\n",
       "      <th>3</th>\n",
       "      <td>13726205</td>\n",
       "      <td>Санкт-Петербург</td>\n",
       "      <td>female</td>\n",
       "      <td>265.0</td>\n",
       "      <td>5082.0</td>\n",
       "      <td>4.0</td>\n",
       "      <td>0.0</td>\n",
       "      <td>0.0</td>\n",
       "      <td>22.0</td>\n",
       "    </tr>\n",
       "    <tr>\n",
       "      <th>4</th>\n",
       "      <td>21611581</td>\n",
       "      <td>City of St. Petersburg</td>\n",
       "      <td>male</td>\n",
       "      <td>175.0</td>\n",
       "      <td>4043.0</td>\n",
       "      <td>2.0</td>\n",
       "      <td>0.0</td>\n",
       "      <td>0.0</td>\n",
       "      <td>11.0</td>\n",
       "    </tr>\n",
       "  </tbody>\n",
       "</table>\n",
       "</div>"
      ],
      "text/plain": [
       "      UserId                  HomeCity  Gender  FriendCount  CheckInCount  \\\n",
       "0   57748591          Saint-Petersburg  female         84.0        1833.0   \n",
       "1   77174927  Saint Petersburg, Russia  female         19.0         640.0   \n",
       "2  105804316            Moscow, Moscow  female          0.0           4.0   \n",
       "3   13726205           Санкт-Петербург  female        265.0        5082.0   \n",
       "4   21611581    City of St. Petersburg    male        175.0        4043.0   \n",
       "\n",
       "   ListCount  MajorCount  PhotoCount  TipCount  \n",
       "0        4.0         0.0         0.0      26.0  \n",
       "1       19.0         0.0         0.0       4.0  \n",
       "2        2.0         0.0         0.0       5.0  \n",
       "3        4.0         0.0         0.0      22.0  \n",
       "4        2.0         0.0         0.0      11.0  "
      ]
     },
     "execution_count": 77,
     "metadata": {},
     "output_type": "execute_result"
    }
   ],
   "source": [
    "users_meta.head()"
   ]
  },
  {
   "cell_type": "code",
   "execution_count": 78,
   "metadata": {
    "collapsed": true
   },
   "outputs": [],
   "source": [
    "# merging the user's meta and venues tips data\n",
    "data_users = pd.merge(left=data, right=users_meta, how='outer', on='UserId')"
   ]
  },
  {
   "cell_type": "code",
   "execution_count": 79,
   "metadata": {
    "collapsed": false
   },
   "outputs": [
    {
     "data": {
      "text/html": [
       "<div>\n",
       "<table border=\"1\" class=\"dataframe\">\n",
       "  <thead>\n",
       "    <tr style=\"text-align: right;\">\n",
       "      <th></th>\n",
       "      <th>District</th>\n",
       "      <th>BarId</th>\n",
       "      <th>UserId</th>\n",
       "      <th>Review</th>\n",
       "      <th>MadePhoto</th>\n",
       "      <th>Reaction</th>\n",
       "      <th>HomeCity</th>\n",
       "      <th>Gender</th>\n",
       "      <th>FriendCount</th>\n",
       "      <th>CheckInCount</th>\n",
       "      <th>ListCount</th>\n",
       "      <th>MajorCount</th>\n",
       "      <th>PhotoCount</th>\n",
       "      <th>TipCount</th>\n",
       "    </tr>\n",
       "  </thead>\n",
       "  <tbody>\n",
       "    <tr>\n",
       "      <th>0</th>\n",
       "      <td>Dumskaya</td>\n",
       "      <td>52b89801498eb5da45f72173</td>\n",
       "      <td>142661708</td>\n",
       "      <td>Как в городе с хорошими локальными, интересным...</td>\n",
       "      <td>False</td>\n",
       "      <td>disliked</td>\n",
       "      <td>Saint Petersburg</td>\n",
       "      <td>female</td>\n",
       "      <td>0.0</td>\n",
       "      <td>0.0</td>\n",
       "      <td>3.0</td>\n",
       "      <td>0.0</td>\n",
       "      <td>0.0</td>\n",
       "      <td>113.0</td>\n",
       "    </tr>\n",
       "    <tr>\n",
       "      <th>1</th>\n",
       "      <td>Dumskaya</td>\n",
       "      <td>5257e2c011d238157c415649</td>\n",
       "      <td>142661708</td>\n",
       "      <td>Подозреваю, что стригут тут все же лучше, чем ...</td>\n",
       "      <td>False</td>\n",
       "      <td>meh</td>\n",
       "      <td>Saint Petersburg</td>\n",
       "      <td>female</td>\n",
       "      <td>0.0</td>\n",
       "      <td>0.0</td>\n",
       "      <td>3.0</td>\n",
       "      <td>0.0</td>\n",
       "      <td>0.0</td>\n",
       "      <td>113.0</td>\n",
       "    </tr>\n",
       "    <tr>\n",
       "      <th>2</th>\n",
       "      <td>Zukovskogo</td>\n",
       "      <td>57691bb8cd10287c73f4dc3b</td>\n",
       "      <td>142661708</td>\n",
       "      <td>Неплохая и более здоровая вариация на тему нац...</td>\n",
       "      <td>False</td>\n",
       "      <td>meh</td>\n",
       "      <td>Saint Petersburg</td>\n",
       "      <td>female</td>\n",
       "      <td>0.0</td>\n",
       "      <td>0.0</td>\n",
       "      <td>3.0</td>\n",
       "      <td>0.0</td>\n",
       "      <td>0.0</td>\n",
       "      <td>113.0</td>\n",
       "    </tr>\n",
       "    <tr>\n",
       "      <th>3</th>\n",
       "      <td>Zukovskogo</td>\n",
       "      <td>538493ea498e5da6509017a4</td>\n",
       "      <td>142661708</td>\n",
       "      <td>Непревзойдённый флэт уайт)</td>\n",
       "      <td>False</td>\n",
       "      <td>liked</td>\n",
       "      <td>Saint Petersburg</td>\n",
       "      <td>female</td>\n",
       "      <td>0.0</td>\n",
       "      <td>0.0</td>\n",
       "      <td>3.0</td>\n",
       "      <td>0.0</td>\n",
       "      <td>0.0</td>\n",
       "      <td>113.0</td>\n",
       "    </tr>\n",
       "    <tr>\n",
       "      <th>4</th>\n",
       "      <td>Zukovskogo</td>\n",
       "      <td>521772ba11d24a4864be2b6e</td>\n",
       "      <td>142661708</td>\n",
       "      <td>Хорошее место, несмотря на то, что сетевое. Вр...</td>\n",
       "      <td>False</td>\n",
       "      <td>liked</td>\n",
       "      <td>Saint Petersburg</td>\n",
       "      <td>female</td>\n",
       "      <td>0.0</td>\n",
       "      <td>0.0</td>\n",
       "      <td>3.0</td>\n",
       "      <td>0.0</td>\n",
       "      <td>0.0</td>\n",
       "      <td>113.0</td>\n",
       "    </tr>\n",
       "  </tbody>\n",
       "</table>\n",
       "</div>"
      ],
      "text/plain": [
       "     District                     BarId     UserId  \\\n",
       "0    Dumskaya  52b89801498eb5da45f72173  142661708   \n",
       "1    Dumskaya  5257e2c011d238157c415649  142661708   \n",
       "2  Zukovskogo  57691bb8cd10287c73f4dc3b  142661708   \n",
       "3  Zukovskogo  538493ea498e5da6509017a4  142661708   \n",
       "4  Zukovskogo  521772ba11d24a4864be2b6e  142661708   \n",
       "\n",
       "                                              Review MadePhoto  Reaction  \\\n",
       "0  Как в городе с хорошими локальными, интересным...     False  disliked   \n",
       "1  Подозреваю, что стригут тут все же лучше, чем ...     False       meh   \n",
       "2  Неплохая и более здоровая вариация на тему нац...     False       meh   \n",
       "3                         Непревзойдённый флэт уайт)     False     liked   \n",
       "4  Хорошее место, несмотря на то, что сетевое. Вр...     False     liked   \n",
       "\n",
       "           HomeCity  Gender  FriendCount  CheckInCount  ListCount  MajorCount  \\\n",
       "0  Saint Petersburg  female          0.0           0.0        3.0         0.0   \n",
       "1  Saint Petersburg  female          0.0           0.0        3.0         0.0   \n",
       "2  Saint Petersburg  female          0.0           0.0        3.0         0.0   \n",
       "3  Saint Petersburg  female          0.0           0.0        3.0         0.0   \n",
       "4  Saint Petersburg  female          0.0           0.0        3.0         0.0   \n",
       "\n",
       "   PhotoCount  TipCount  \n",
       "0         0.0     113.0  \n",
       "1         0.0     113.0  \n",
       "2         0.0     113.0  \n",
       "3         0.0     113.0  \n",
       "4         0.0     113.0  "
      ]
     },
     "execution_count": 79,
     "metadata": {},
     "output_type": "execute_result"
    }
   ],
   "source": [
    "data_users.head()"
   ]
  }
 ],
 "metadata": {
  "kernelspec": {
   "display_name": "Python 3",
   "language": "python",
   "name": "python3"
  },
  "language_info": {
   "codemirror_mode": {
    "name": "ipython",
    "version": 3
   },
   "file_extension": ".py",
   "mimetype": "text/x-python",
   "name": "python",
   "nbconvert_exporter": "python",
   "pygments_lexer": "ipython3",
   "version": "3.5.2"
  }
 },
 "nbformat": 4,
 "nbformat_minor": 1
}
